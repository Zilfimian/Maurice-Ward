{
 "cells": [
  {
   "cell_type": "code",
   "execution_count": 1,
   "metadata": {},
   "outputs": [],
   "source": [
    "import pandas as pd \n",
    "from sklearn.feature_extraction.text import TfidfVectorizer\n",
    "from sklearn.feature_extraction.text import CountVectorizer\n",
    "from sklearn.model_selection import train_test_split\n",
    "from sklearn.naive_bayes import MultinomialNB\n",
    "from sklearn.preprocessing import LabelEncoder"
   ]
  },
  {
   "cell_type": "code",
   "execution_count": 6,
   "metadata": {},
   "outputs": [],
   "source": [
    "data=pd.read_excel(\"movies_data.xls\")\n"
   ]
  },
  {
   "cell_type": "code",
   "execution_count": 10,
   "metadata": {},
   "outputs": [
    {
     "data": {
      "text/plain": [
       "0       Former superhero Jack is called back to work t...\n",
       "1       Derek and Hansel are lured into modelling agai...\n",
       "2       A group of zoo animals decide to break their c...\n",
       "3       A shy student trying to reach his family in Oh...\n",
       "4       In the late 1960s/early 1970s, a San Francisco...\n",
       "5       The world's greatest detective Daryl Zero aide...\n",
       "6       A chronicle of the decade-long hunt for al-Qae...\n",
       "7       Two young brothers are drawn into an intergala...\n",
       "8       Lifelong platonic friends Zack and Miri look t...\n",
       "9       Two business rivals who despise each other in ...\n",
       "10      While his trailer trash parents teeter on the ...\n",
       "11      When Prince Fabious's bride is kidnapped, he g...\n",
       "12      When assorted people start having inexplicable...\n",
       "13      A group of young gunmen, led by Billy the Kid,...\n",
       "14      An American grandson of the infamous scientist...\n",
       "15      Soon after her divorce, a fiction writer retur...\n",
       "16      A best man (Wilson) stays on as a houseguest w...\n",
       "17      Sally's parents' marriage breaks up when her f...\n",
       "18      While drying out on the West Coast, an alcohol...\n",
       "19      In order to achieve their dream of opening a r...\n",
       "20      An Israeli Special Forces Soldier fakes his de...\n",
       "21      A single mother's life is thrown into turmoil ...\n",
       "22      When a young woman realizes her brother is abo...\n",
       "23      A documentary filmmaker travels to Jellystone ...\n",
       "24      A man challenges himself to say \"yes\" to every...\n",
       "25      After being banished from their tribe, two hun...\n",
       "26      Darius Stone, a new agent in the xXx program, ...\n",
       "27      An extreme sports athlete, Xander Cage, is rec...\n",
       "28      In 1962, the United States government enlists ...\n",
       "29      The X-Men send Wolverine to the past in a desp...\n",
       "                              ...                        \n",
       "2819    After an Alaskan town is plunged into darkness...\n",
       "2820    A small-time rancher agrees to hold a captured...\n",
       "2821    Brian Hooks plays a character who is just rele...\n",
       "2822    During a championship baseball match, the thre...\n",
       "2823    Three bachelors find themselves forced to take...\n",
       "2824    A dying CIA agent trying to reconnect with his...\n",
       "2825    A big-city newspaper columnist is forced to en...\n",
       "2826    After serving as a bridesmaid 27 times, a youn...\n",
       "2827    Cornered by the DEA, convicted New York drug d...\n",
       "2828    After making their way through high school (tw...\n",
       "2829    A pair of underachieving cops are sent back to...\n",
       "2830    A freak accident brings together a critically ...\n",
       "2831                                                  NaN\n",
       "2832    A documentary that examines the question, \"If ...\n",
       "2833    A collection of twentysomethings try to cope w...\n",
       "2834    Backup singers live in a world that lies just ...\n",
       "2835    A documentary type film about the dates Myles ...\n",
       "2836    Former cop Brian O'Conner is called upon to bu...\n",
       "2837    Mike O'Donnell is ungrateful for how his life ...\n",
       "2838    A homicide detective and a fire marshal must s...\n",
       "2839    During an attack on a U.S. compound in Libya, ...\n",
       "2840    A girl makes a wish on her thirteenth birthday...\n",
       "2841    An adventurous mountain climber becomes trappe...\n",
       "2842    In the antebellum United States, Solomon North...\n",
       "2843    Detective Danny Fisher discovers his girlfrien...\n",
       "2844    A former street tough returns to his Philadelp...\n",
       "2845    Cruella DeVil gets out of prison and goes afte...\n",
       "2846    A pretty, popular teenager can't go out on a d...\n",
       "2847    In 1887, at age 23, reporter Nellie Bly, worki...\n",
       "2848    After getting in a car accident, a woman is he...\n",
       "Name: Plot, Length: 2849, dtype: object"
      ]
     },
     "execution_count": 10,
     "metadata": {},
     "output_type": "execute_result"
    }
   ],
   "source": [
    "data.Plot"
   ]
  },
  {
   "cell_type": "code",
   "execution_count": 30,
   "metadata": {},
   "outputs": [],
   "source": [
    "cv=CountVectorizer(stop_words=\"english\")\n",
    "sum_vec=cv.fit_transform(data.Plot.values.astype('U'))\n",
    "le=LabelEncoder() \n",
    "y=le.fit_transform(data.genre_first.astype(str))# for making genres a label\n",
    "x=sum_vec.toarray()\n",
    "x_train,x_test,y_train,y_test=train_test_split(x,y,test_size=0.25,random_state=42)\n",
    "model=MultinomialNB()## we used MultinomlialNB because we have more than one genre so it will predict genre of the inputed song"
   ]
  },
  {
   "cell_type": "code",
   "execution_count": 31,
   "metadata": {},
   "outputs": [
    {
     "data": {
      "text/plain": [
       "(2849, 9817)"
      ]
     },
     "execution_count": 31,
     "metadata": {},
     "output_type": "execute_result"
    }
   ],
   "source": [
    "sum_vec.shape"
   ]
  },
  {
   "cell_type": "code",
   "execution_count": 32,
   "metadata": {},
   "outputs": [
    {
     "data": {
      "text/plain": [
       "MultinomialNB(alpha=1.0, class_prior=None, fit_prior=True)"
      ]
     },
     "execution_count": 32,
     "metadata": {},
     "output_type": "execute_result"
    }
   ],
   "source": [
    "\n",
    "model.fit(x_train,y_train)"
   ]
  },
  {
   "cell_type": "code",
   "execution_count": 33,
   "metadata": {},
   "outputs": [
    {
     "data": {
      "text/plain": [
       "0.899812734082397"
      ]
     },
     "execution_count": 33,
     "metadata": {},
     "output_type": "execute_result"
    }
   ],
   "source": [
    "model.score(x_train,y_train)"
   ]
  },
  {
   "cell_type": "code",
   "execution_count": 34,
   "metadata": {},
   "outputs": [
    {
     "data": {
      "text/plain": [
       "0.49228611500701264"
      ]
     },
     "execution_count": 34,
     "metadata": {},
     "output_type": "execute_result"
    }
   ],
   "source": [
    "model.score(x_test,y_test)"
   ]
  },
  {
   "cell_type": "code",
   "execution_count": 35,
   "metadata": {},
   "outputs": [],
   "source": [
    "def recognize(text):\n",
    "    '''function determining the genre of the inputted text'''\n",
    "    text1=[text]\n",
    "    text1=cv.transform(text1)\n",
    "    print(le.inverse_transform(model.predict(text1)))\n",
    "    return le.inverse_transform(model.predict(text1))"
   ]
  },
  {
   "cell_type": "code",
   "execution_count": 36,
   "metadata": {},
   "outputs": [
    {
     "name": "stdout",
     "output_type": "stream",
     "text": [
      "['Action']\n"
     ]
    },
    {
     "data": {
      "text/plain": [
       "array(['Action'], dtype=object)"
      ]
     },
     "execution_count": 36,
     "metadata": {},
     "output_type": "execute_result"
    }
   ],
   "source": [
    "recognize(\"A documentary that examines the question, kill, murder,agent \")"
   ]
  },
  {
   "cell_type": "code",
   "execution_count": null,
   "metadata": {},
   "outputs": [],
   "source": []
  }
 ],
 "metadata": {
  "kernelspec": {
   "display_name": "Python 3",
   "language": "python",
   "name": "python3"
  },
  "language_info": {
   "codemirror_mode": {
    "name": "ipython",
    "version": 3
   },
   "file_extension": ".py",
   "mimetype": "text/x-python",
   "name": "python",
   "nbconvert_exporter": "python",
   "pygments_lexer": "ipython3",
   "version": "3.7.1"
  }
 },
 "nbformat": 4,
 "nbformat_minor": 2
}
