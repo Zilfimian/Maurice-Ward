{
 "cells": [
  {
   "cell_type": "code",
   "execution_count": 110,
   "metadata": {},
   "outputs": [],
   "source": [
    "import pandas as pd\n",
    "import spacy\n",
    "from fuzzywuzzy import process"
   ]
  },
  {
   "cell_type": "code",
   "execution_count": 111,
   "metadata": {},
   "outputs": [],
   "source": [
    "def get_matches(query,choise):\n",
    "    result=process.extractOne(query,choices=choise)\n",
    "    return result"
   ]
  },
  {
   "cell_type": "code",
   "execution_count": 112,
   "metadata": {},
   "outputs": [],
   "source": [
    "data2=pd.read_excel(\"tossend.xlsx\")\n",
    "data=pd.read_excel(\"tossend.xlsx\",sheet_name=1)"
   ]
  },
  {
   "cell_type": "code",
   "execution_count": 113,
   "metadata": {},
   "outputs": [],
   "source": [
    "data2.reset_index(drop=True,inplace=True)\n",
    "data.reset_index(drop=True,inplace=True)"
   ]
  },
  {
   "cell_type": "code",
   "execution_count": 114,
   "metadata": {},
   "outputs": [
    {
     "name": "stdout",
     "output_type": "stream",
     "text": [
      "  county     name\n",
      "0      A   Lusone\n",
      "1      A  Z Dabid\n",
      "2      B   Lusine\n",
      "3      C      Lus\n",
      "4      C    David\n",
      "  adcounty  adname\n",
      "0        A  Lusine\n",
      "1        A   David\n",
      "2        B   Lusne\n",
      "3        C  Lusine\n",
      "4        C     Dad\n"
     ]
    }
   ],
   "source": [
    "print(data.head())\n",
    "print(data2.head())"
   ]
  },
  {
   "cell_type": "code",
   "execution_count": 115,
   "metadata": {},
   "outputs": [],
   "source": [
    "def get_matches(query,choise,limit=10):\n",
    "    result=process.extract(query,choise,limit=limit)\n",
    "    return result"
   ]
  },
  {
   "cell_type": "code",
   "execution_count": 116,
   "metadata": {
    "scrolled": true
   },
   "outputs": [],
   "source": [
    "new=[]\n",
    "for i in range(len(data)):\n",
    "    z=get_matches(data[\"name\"][i],data2.adname.tolist())\n",
    "    top=[i for  i in z if i[1]>80]\n",
    "    new.append(top)\n",
    "    #z2=get_matches(data[\"country\"][i],data2.adname.tolist())\n",
    "    "
   ]
  },
  {
   "cell_type": "code",
   "execution_count": 117,
   "metadata": {},
   "outputs": [
    {
     "name": "stdout",
     "output_type": "stream",
     "text": [
      "['B']\n",
      "['A' 'C']\n",
      "['A' 'C']\n",
      "['A' 'C']\n",
      "['A' 'C']\n",
      "['B']\n",
      "['A' 'C']\n",
      "['B']\n",
      "['A' 'C']\n",
      "['A']\n",
      "['A']\n",
      "['B']\n"
     ]
    }
   ],
   "source": [
    "countries=[]\n",
    "for i in new:\n",
    "    \n",
    "    v=[]\n",
    "    for j in i:\n",
    "        indexes=data2[data2['adname']==j[0]].index\n",
    "        values=data2.iloc[indexes,0].values\n",
    "        print(values)\n",
    "        v.append(values)\n",
    "    countries.append(v)\n",
    "    \n",
    "            \n",
    "    "
   ]
  },
  {
   "cell_type": "code",
   "execution_count": 118,
   "metadata": {},
   "outputs": [],
   "source": [
    "ADcountries=[]\n",
    "for  i in countries:\n",
    "    z=[]\n",
    "    for j in i:\n",
    "        z.append(j[0])\n",
    "    ADcountries.append(z)"
   ]
  },
  {
   "cell_type": "code",
   "execution_count": 119,
   "metadata": {},
   "outputs": [],
   "source": [
    "data[\"Similar\"]=new"
   ]
  },
  {
   "cell_type": "code",
   "execution_count": 120,
   "metadata": {},
   "outputs": [],
   "source": [
    "data[\"adcountry\"]=countries"
   ]
  },
  {
   "cell_type": "code",
   "execution_count": 121,
   "metadata": {},
   "outputs": [
    {
     "data": {
      "text/html": [
       "<div>\n",
       "<style scoped>\n",
       "    .dataframe tbody tr th:only-of-type {\n",
       "        vertical-align: middle;\n",
       "    }\n",
       "\n",
       "    .dataframe tbody tr th {\n",
       "        vertical-align: top;\n",
       "    }\n",
       "\n",
       "    .dataframe thead th {\n",
       "        text-align: right;\n",
       "    }\n",
       "</style>\n",
       "<table border=\"1\" class=\"dataframe\">\n",
       "  <thead>\n",
       "    <tr style=\"text-align: right;\">\n",
       "      <th></th>\n",
       "      <th>county</th>\n",
       "      <th>name</th>\n",
       "      <th>Similar</th>\n",
       "      <th>adcountry</th>\n",
       "    </tr>\n",
       "  </thead>\n",
       "  <tbody>\n",
       "    <tr>\n",
       "      <th>0</th>\n",
       "      <td>A</td>\n",
       "      <td>Lusone</td>\n",
       "      <td>[(Lusne, 91), (Lusine, 83), (Lusine, 83)]</td>\n",
       "      <td>[[B], [A, C], [A, C]]</td>\n",
       "    </tr>\n",
       "    <tr>\n",
       "      <th>1</th>\n",
       "      <td>A</td>\n",
       "      <td>Z Dabid</td>\n",
       "      <td>[]</td>\n",
       "      <td>[]</td>\n",
       "    </tr>\n",
       "    <tr>\n",
       "      <th>2</th>\n",
       "      <td>B</td>\n",
       "      <td>Lusine</td>\n",
       "      <td>[(Lusine, 100), (Lusine, 100), (Lusne, 91)]</td>\n",
       "      <td>[[A, C], [A, C], [B]]</td>\n",
       "    </tr>\n",
       "    <tr>\n",
       "      <th>3</th>\n",
       "      <td>C</td>\n",
       "      <td>Lus</td>\n",
       "      <td>[(Lusine, 90), (Lusne, 90), (Lusine, 90)]</td>\n",
       "      <td>[[A, C], [B], [A, C]]</td>\n",
       "    </tr>\n",
       "    <tr>\n",
       "      <th>4</th>\n",
       "      <td>C</td>\n",
       "      <td>David</td>\n",
       "      <td>[(David, 100)]</td>\n",
       "      <td>[[A]]</td>\n",
       "    </tr>\n",
       "    <tr>\n",
       "      <th>5</th>\n",
       "      <td>A</td>\n",
       "      <td>Par</td>\n",
       "      <td>[(Pari, 86)]</td>\n",
       "      <td>[[A]]</td>\n",
       "    </tr>\n",
       "    <tr>\n",
       "      <th>6</th>\n",
       "      <td>B</td>\n",
       "      <td>s Paramdajem</td>\n",
       "      <td>[(s Paem, 86)]</td>\n",
       "      <td>[[B]]</td>\n",
       "    </tr>\n",
       "  </tbody>\n",
       "</table>\n",
       "</div>"
      ],
      "text/plain": [
       "  county          name                                      Similar  \\\n",
       "0      A        Lusone    [(Lusne, 91), (Lusine, 83), (Lusine, 83)]   \n",
       "1      A       Z Dabid                                           []   \n",
       "2      B        Lusine  [(Lusine, 100), (Lusine, 100), (Lusne, 91)]   \n",
       "3      C           Lus    [(Lusine, 90), (Lusne, 90), (Lusine, 90)]   \n",
       "4      C         David                               [(David, 100)]   \n",
       "5      A           Par                                 [(Pari, 86)]   \n",
       "6      B  s Paramdajem                               [(s Paem, 86)]   \n",
       "\n",
       "               adcountry  \n",
       "0  [[B], [A, C], [A, C]]  \n",
       "1                     []  \n",
       "2  [[A, C], [A, C], [B]]  \n",
       "3  [[A, C], [B], [A, C]]  \n",
       "4                  [[A]]  \n",
       "5                  [[A]]  \n",
       "6                  [[B]]  "
      ]
     },
     "execution_count": 121,
     "metadata": {},
     "output_type": "execute_result"
    }
   ],
   "source": [
    "data"
   ]
  },
  {
   "cell_type": "code",
   "execution_count": 122,
   "metadata": {},
   "outputs": [
    {
     "data": {
      "text/plain": [
       "False"
      ]
     },
     "execution_count": 122,
     "metadata": {},
     "output_type": "execute_result"
    }
   ],
   "source": [
    "data[\"county\"][1]==data[\"adcountry\"][1]"
   ]
  },
  {
   "cell_type": "code",
   "execution_count": 123,
   "metadata": {},
   "outputs": [
    {
     "data": {
      "text/html": [
       "<div>\n",
       "<style scoped>\n",
       "    .dataframe tbody tr th:only-of-type {\n",
       "        vertical-align: middle;\n",
       "    }\n",
       "\n",
       "    .dataframe tbody tr th {\n",
       "        vertical-align: top;\n",
       "    }\n",
       "\n",
       "    .dataframe thead th {\n",
       "        text-align: right;\n",
       "    }\n",
       "</style>\n",
       "<table border=\"1\" class=\"dataframe\">\n",
       "  <thead>\n",
       "    <tr style=\"text-align: right;\">\n",
       "      <th></th>\n",
       "      <th>county</th>\n",
       "      <th>name</th>\n",
       "      <th>Similar</th>\n",
       "      <th>adcountry</th>\n",
       "    </tr>\n",
       "  </thead>\n",
       "  <tbody>\n",
       "    <tr>\n",
       "      <th>0</th>\n",
       "      <td>A</td>\n",
       "      <td>Lusone</td>\n",
       "      <td>[(Lusne, 91), (Lusine, 83), (Lusine, 83)]</td>\n",
       "      <td>[[B], [A, C], [A, C]]</td>\n",
       "    </tr>\n",
       "    <tr>\n",
       "      <th>1</th>\n",
       "      <td>A</td>\n",
       "      <td>Z Dabid</td>\n",
       "      <td>[]</td>\n",
       "      <td>[]</td>\n",
       "    </tr>\n",
       "    <tr>\n",
       "      <th>2</th>\n",
       "      <td>B</td>\n",
       "      <td>Lusine</td>\n",
       "      <td>[(Lusine, 100), (Lusine, 100), (Lusne, 91)]</td>\n",
       "      <td>[[A, C], [A, C], [B]]</td>\n",
       "    </tr>\n",
       "    <tr>\n",
       "      <th>3</th>\n",
       "      <td>C</td>\n",
       "      <td>Lus</td>\n",
       "      <td>[(Lusine, 90), (Lusne, 90), (Lusine, 90)]</td>\n",
       "      <td>[[A, C], [B], [A, C]]</td>\n",
       "    </tr>\n",
       "    <tr>\n",
       "      <th>4</th>\n",
       "      <td>C</td>\n",
       "      <td>David</td>\n",
       "      <td>[(David, 100)]</td>\n",
       "      <td>[[A]]</td>\n",
       "    </tr>\n",
       "    <tr>\n",
       "      <th>5</th>\n",
       "      <td>A</td>\n",
       "      <td>Par</td>\n",
       "      <td>[(Pari, 86)]</td>\n",
       "      <td>[[A]]</td>\n",
       "    </tr>\n",
       "    <tr>\n",
       "      <th>6</th>\n",
       "      <td>B</td>\n",
       "      <td>s Paramdajem</td>\n",
       "      <td>[(s Paem, 86)]</td>\n",
       "      <td>[[B]]</td>\n",
       "    </tr>\n",
       "  </tbody>\n",
       "</table>\n",
       "</div>"
      ],
      "text/plain": [
       "  county          name                                      Similar  \\\n",
       "0      A        Lusone    [(Lusne, 91), (Lusine, 83), (Lusine, 83)]   \n",
       "1      A       Z Dabid                                           []   \n",
       "2      B        Lusine  [(Lusine, 100), (Lusine, 100), (Lusne, 91)]   \n",
       "3      C           Lus    [(Lusine, 90), (Lusne, 90), (Lusine, 90)]   \n",
       "4      C         David                               [(David, 100)]   \n",
       "5      A           Par                                 [(Pari, 86)]   \n",
       "6      B  s Paramdajem                               [(s Paem, 86)]   \n",
       "\n",
       "               adcountry  \n",
       "0  [[B], [A, C], [A, C]]  \n",
       "1                     []  \n",
       "2  [[A, C], [A, C], [B]]  \n",
       "3  [[A, C], [B], [A, C]]  \n",
       "4                  [[A]]  \n",
       "5                  [[A]]  \n",
       "6                  [[B]]  "
      ]
     },
     "execution_count": 123,
     "metadata": {},
     "output_type": "execute_result"
    }
   ],
   "source": [
    "data"
   ]
  },
  {
   "cell_type": "code",
   "execution_count": 124,
   "metadata": {},
   "outputs": [
    {
     "name": "stdout",
     "output_type": "stream",
     "text": [
      "A 0 1\n",
      "B 2 2\n",
      "C 3 0\n",
      "A 5 0\n",
      "B 6 0\n"
     ]
    }
   ],
   "source": [
    "data['NAME_COUNTRY']=None\n",
    "for i in range(len(data)):\n",
    "    for indexes,j in enumerate(data[\"adcountry\"][i]):\n",
    "        try:\n",
    "            v=next(z for z in j if z==data[\"county\"][i])\n",
    "            print(v,i,indexes)\n",
    "            data['NAME_COUNTRY'][i]=data['Similar'][i][indexes][0],v\n",
    "            if len(z)>0:\n",
    "                #\n",
    "                break\n",
    "        except:\n",
    "            continue"
   ]
  },
  {
   "cell_type": "code",
   "execution_count": 125,
   "metadata": {},
   "outputs": [],
   "source": [
    "data2[\"ID_WE_WANT_TO_GET\"] = [\"Code1\",\"Code2\",\"Code3\",\"Code4\",\"Code5\",\"Code6\",\"Code7\"]"
   ]
  },
  {
   "cell_type": "code",
   "execution_count": 126,
   "metadata": {},
   "outputs": [
    {
     "data": {
      "text/html": [
       "<div>\n",
       "<style scoped>\n",
       "    .dataframe tbody tr th:only-of-type {\n",
       "        vertical-align: middle;\n",
       "    }\n",
       "\n",
       "    .dataframe tbody tr th {\n",
       "        vertical-align: top;\n",
       "    }\n",
       "\n",
       "    .dataframe thead th {\n",
       "        text-align: right;\n",
       "    }\n",
       "</style>\n",
       "<table border=\"1\" class=\"dataframe\">\n",
       "  <thead>\n",
       "    <tr style=\"text-align: right;\">\n",
       "      <th></th>\n",
       "      <th>adcounty</th>\n",
       "      <th>adname</th>\n",
       "      <th>ID_WE_WANT_TO_GET</th>\n",
       "    </tr>\n",
       "  </thead>\n",
       "  <tbody>\n",
       "    <tr>\n",
       "      <th>0</th>\n",
       "      <td>A</td>\n",
       "      <td>Lusine</td>\n",
       "      <td>Code1</td>\n",
       "    </tr>\n",
       "    <tr>\n",
       "      <th>1</th>\n",
       "      <td>A</td>\n",
       "      <td>David</td>\n",
       "      <td>Code2</td>\n",
       "    </tr>\n",
       "    <tr>\n",
       "      <th>2</th>\n",
       "      <td>B</td>\n",
       "      <td>Lusne</td>\n",
       "      <td>Code3</td>\n",
       "    </tr>\n",
       "    <tr>\n",
       "      <th>3</th>\n",
       "      <td>C</td>\n",
       "      <td>Lusine</td>\n",
       "      <td>Code4</td>\n",
       "    </tr>\n",
       "    <tr>\n",
       "      <th>4</th>\n",
       "      <td>C</td>\n",
       "      <td>Dad</td>\n",
       "      <td>Code5</td>\n",
       "    </tr>\n",
       "    <tr>\n",
       "      <th>5</th>\n",
       "      <td>A</td>\n",
       "      <td>Pari</td>\n",
       "      <td>Code6</td>\n",
       "    </tr>\n",
       "    <tr>\n",
       "      <th>6</th>\n",
       "      <td>B</td>\n",
       "      <td>s Paem</td>\n",
       "      <td>Code7</td>\n",
       "    </tr>\n",
       "  </tbody>\n",
       "</table>\n",
       "</div>"
      ],
      "text/plain": [
       "  adcounty  adname ID_WE_WANT_TO_GET\n",
       "0        A  Lusine             Code1\n",
       "1        A   David             Code2\n",
       "2        B   Lusne             Code3\n",
       "3        C  Lusine             Code4\n",
       "4        C     Dad             Code5\n",
       "5        A    Pari             Code6\n",
       "6        B  s Paem             Code7"
      ]
     },
     "execution_count": 126,
     "metadata": {},
     "output_type": "execute_result"
    }
   ],
   "source": [
    "data2"
   ]
  },
  {
   "cell_type": "code",
   "execution_count": 127,
   "metadata": {},
   "outputs": [],
   "source": [
    "data.NAME_COUNTRY=data.NAME_COUNTRY.apply(lambda x:'{},{}'.format(x[0], x[1]) if x is not None else None)"
   ]
  },
  {
   "cell_type": "code",
   "execution_count": 128,
   "metadata": {},
   "outputs": [],
   "source": [
    "data1=pd.concat([data,data.NAME_COUNTRY.str.split(',',expand=True)],1)"
   ]
  },
  {
   "cell_type": "code",
   "execution_count": 129,
   "metadata": {},
   "outputs": [],
   "source": [
    "data1.rename(columns={0: \"adname\", 1: \"adcounty\"},inplace=True)"
   ]
  },
  {
   "cell_type": "code",
   "execution_count": 157,
   "metadata": {},
   "outputs": [
    {
     "data": {
      "text/html": [
       "<div>\n",
       "<style scoped>\n",
       "    .dataframe tbody tr th:only-of-type {\n",
       "        vertical-align: middle;\n",
       "    }\n",
       "\n",
       "    .dataframe tbody tr th {\n",
       "        vertical-align: top;\n",
       "    }\n",
       "\n",
       "    .dataframe thead th {\n",
       "        text-align: right;\n",
       "    }\n",
       "</style>\n",
       "<table border=\"1\" class=\"dataframe\">\n",
       "  <thead>\n",
       "    <tr style=\"text-align: right;\">\n",
       "      <th></th>\n",
       "      <th>county</th>\n",
       "      <th>name</th>\n",
       "      <th>Similar</th>\n",
       "      <th>adcountry</th>\n",
       "      <th>NAME_COUNTRY</th>\n",
       "      <th>adname</th>\n",
       "      <th>adcounty</th>\n",
       "      <th>ID_WE_WANT_TO_GET</th>\n",
       "    </tr>\n",
       "  </thead>\n",
       "  <tbody>\n",
       "    <tr>\n",
       "      <th>0</th>\n",
       "      <td>A</td>\n",
       "      <td>Lusone</td>\n",
       "      <td>[(Lusne, 91), (Lusine, 83), (Lusine, 83)]</td>\n",
       "      <td>[[B], [A, C], [A, C]]</td>\n",
       "      <td>Lusine,A</td>\n",
       "      <td>Lusine</td>\n",
       "      <td>A</td>\n",
       "      <td>Code1</td>\n",
       "    </tr>\n",
       "    <tr>\n",
       "      <th>1</th>\n",
       "      <td>A</td>\n",
       "      <td>Z Dabid</td>\n",
       "      <td>[]</td>\n",
       "      <td>[]</td>\n",
       "      <td>None</td>\n",
       "      <td>None</td>\n",
       "      <td>None</td>\n",
       "      <td>NaN</td>\n",
       "    </tr>\n",
       "    <tr>\n",
       "      <th>2</th>\n",
       "      <td>B</td>\n",
       "      <td>Lusine</td>\n",
       "      <td>[(Lusine, 100), (Lusine, 100), (Lusne, 91)]</td>\n",
       "      <td>[[A, C], [A, C], [B]]</td>\n",
       "      <td>Lusne,B</td>\n",
       "      <td>Lusne</td>\n",
       "      <td>B</td>\n",
       "      <td>Code3</td>\n",
       "    </tr>\n",
       "    <tr>\n",
       "      <th>3</th>\n",
       "      <td>C</td>\n",
       "      <td>Lus</td>\n",
       "      <td>[(Lusine, 90), (Lusne, 90), (Lusine, 90)]</td>\n",
       "      <td>[[A, C], [B], [A, C]]</td>\n",
       "      <td>Lusine,C</td>\n",
       "      <td>Lusine</td>\n",
       "      <td>C</td>\n",
       "      <td>Code4</td>\n",
       "    </tr>\n",
       "    <tr>\n",
       "      <th>4</th>\n",
       "      <td>C</td>\n",
       "      <td>David</td>\n",
       "      <td>[(David, 100)]</td>\n",
       "      <td>[[A]]</td>\n",
       "      <td>None</td>\n",
       "      <td>None</td>\n",
       "      <td>None</td>\n",
       "      <td>NaN</td>\n",
       "    </tr>\n",
       "    <tr>\n",
       "      <th>5</th>\n",
       "      <td>A</td>\n",
       "      <td>Par</td>\n",
       "      <td>[(Pari, 86)]</td>\n",
       "      <td>[[A]]</td>\n",
       "      <td>Pari,A</td>\n",
       "      <td>Pari</td>\n",
       "      <td>A</td>\n",
       "      <td>Code6</td>\n",
       "    </tr>\n",
       "    <tr>\n",
       "      <th>6</th>\n",
       "      <td>B</td>\n",
       "      <td>s Paramdajem</td>\n",
       "      <td>[(s Paem, 86)]</td>\n",
       "      <td>[[B]]</td>\n",
       "      <td>s Paem,B</td>\n",
       "      <td>s Paem</td>\n",
       "      <td>B</td>\n",
       "      <td>Code7</td>\n",
       "    </tr>\n",
       "  </tbody>\n",
       "</table>\n",
       "</div>"
      ],
      "text/plain": [
       "  county          name                                      Similar  \\\n",
       "0      A        Lusone    [(Lusne, 91), (Lusine, 83), (Lusine, 83)]   \n",
       "1      A       Z Dabid                                           []   \n",
       "2      B        Lusine  [(Lusine, 100), (Lusine, 100), (Lusne, 91)]   \n",
       "3      C           Lus    [(Lusine, 90), (Lusne, 90), (Lusine, 90)]   \n",
       "4      C         David                               [(David, 100)]   \n",
       "5      A           Par                                 [(Pari, 86)]   \n",
       "6      B  s Paramdajem                               [(s Paem, 86)]   \n",
       "\n",
       "               adcountry NAME_COUNTRY  adname adcounty ID_WE_WANT_TO_GET  \n",
       "0  [[B], [A, C], [A, C]]     Lusine,A  Lusine        A             Code1  \n",
       "1                     []         None    None     None               NaN  \n",
       "2  [[A, C], [A, C], [B]]      Lusne,B   Lusne        B             Code3  \n",
       "3  [[A, C], [B], [A, C]]     Lusine,C  Lusine        C             Code4  \n",
       "4                  [[A]]         None    None     None               NaN  \n",
       "5                  [[A]]       Pari,A    Pari        A             Code6  \n",
       "6                  [[B]]     s Paem,B  s Paem        B             Code7  "
      ]
     },
     "execution_count": 157,
     "metadata": {},
     "output_type": "execute_result"
    }
   ],
   "source": [
    "data1.merge(data2, on=['adname', 'adcounty'],how='left')"
   ]
  },
  {
   "cell_type": "code",
   "execution_count": null,
   "metadata": {},
   "outputs": [],
   "source": []
  }
 ],
 "metadata": {
  "kernelspec": {
   "display_name": "Python 3",
   "language": "python",
   "name": "python3"
  },
  "language_info": {
   "codemirror_mode": {
    "name": "ipython",
    "version": 3
   },
   "file_extension": ".py",
   "mimetype": "text/x-python",
   "name": "python",
   "nbconvert_exporter": "python",
   "pygments_lexer": "ipython3",
   "version": "3.7.1"
  }
 },
 "nbformat": 4,
 "nbformat_minor": 2
}
